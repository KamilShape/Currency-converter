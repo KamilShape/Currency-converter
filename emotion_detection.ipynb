{
  "nbformat": 4,
  "nbformat_minor": 0,
  "metadata": {
    "colab": {
      "provenance": [],
      "authorship_tag": "ABX9TyNq80BjsSrSB28BnfBbd6rC",
      "include_colab_link": true
    },
    "kernelspec": {
      "name": "python3",
      "display_name": "Python 3"
    },
    "language_info": {
      "name": "python"
    }
  },
  "cells": [
    {
      "cell_type": "markdown",
      "metadata": {
        "id": "view-in-github",
        "colab_type": "text"
      },
      "source": [
        "<a href=\"https://colab.research.google.com/github/KamilShape/Currency-converter/blob/master/emotion_detection.ipynb\" target=\"_parent\"><img src=\"https://colab.research.google.com/assets/colab-badge.svg\" alt=\"Open In Colab\"/></a>"
      ]
    },
    {
      "cell_type": "markdown",
      "source": [
        "# **1. Introduction**"
      ],
      "metadata": {
        "id": "1lh8p-w71ZSu"
      }
    },
    {
      "cell_type": "code",
      "source": [
        "#Libraries\n",
        "import os\n",
        "import cv2\n",
        "from google.colab.patches import cv2_imshow\n",
        "import shutil\n",
        "#----------------visualisation---------------\n",
        "import pandas as pd\n",
        "import matplotlib.pyplot as plt\n",
        "import seaborn as sns\n",
        "import numpy as np\n",
        "#----------------keras-----------------------\n",
        "from tensorflow.keras.models import Sequential\n",
        "from tensorflow.keras import layers\n",
        "from tensorflow import keras"
      ],
      "metadata": {
        "id": "K7-cZ7ON2lRQ"
      },
      "execution_count": 1,
      "outputs": []
    },
    {
      "cell_type": "code",
      "source": [
        "data_path = 'drive/MyDrive/faces/data'"
      ],
      "metadata": {
        "id": "XaY9sSsy2Ifq"
      },
      "execution_count": 2,
      "outputs": []
    },
    {
      "cell_type": "code",
      "source": [
        "people = ['smiling-person', 'anger-person', 'disgust-person', 'fear-person', 'surprise-person' ]"
      ],
      "metadata": {
        "id": "r4QaQYeO1oFP"
      },
      "execution_count": 3,
      "outputs": []
    },
    {
      "cell_type": "code",
      "source": [
        "from google.colab import drive\n",
        "drive.mount('/content/drive', force_remount=True)"
      ],
      "metadata": {
        "colab": {
          "base_uri": "https://localhost:8080/"
        },
        "id": "mo-0Ulan2uws",
        "outputId": "b5286a5c-b6e3-444a-d183-a00062e7c2fe"
      },
      "execution_count": 4,
      "outputs": [
        {
          "output_type": "stream",
          "name": "stdout",
          "text": [
            "Mounted at /content/drive\n"
          ]
        }
      ]
    },
    {
      "cell_type": "code",
      "source": [
        "photos_number = []\n",
        "for person in people:\n",
        "  photos_number.append(len(os.listdir(f'{data_path}/{person}')))"
      ],
      "metadata": {
        "id": "B5e5ufE01ylJ"
      },
      "execution_count": 5,
      "outputs": []
    },
    {
      "cell_type": "code",
      "source": [
        "photos_number"
      ],
      "metadata": {
        "colab": {
          "base_uri": "https://localhost:8080/"
        },
        "id": "BJMRnwC-3q6J",
        "outputId": "d4be269d-597d-4075-861f-f1ef9813ee53"
      },
      "execution_count": 6,
      "outputs": [
        {
          "output_type": "execute_result",
          "data": {
            "text/plain": [
              "[0, 0, 0, 0, 0]"
            ]
          },
          "metadata": {},
          "execution_count": 6
        }
      ]
    },
    {
      "cell_type": "markdown",
      "source": [
        "### 1.1 Data visualisation"
      ],
      "metadata": {
        "id": "z2roLj9z3BmF"
      }
    },
    {
      "cell_type": "code",
      "source": [
        "fig, ax = plt.subplots(figsize = (8,6))\n",
        "ax.bar(people, photos_number, color='wheat', width=0.6)\n",
        "ax.set_title('PHOTOS')\n",
        "ax.set_ylabel('Amount')\n",
        "\n",
        "for i in range(0, len(people)):\n",
        "  ax.text(people[i], photos_number[i] - 20, horizontalalignment='center', s=photos_number[i] )"
      ],
      "metadata": {
        "colab": {
          "base_uri": "https://localhost:8080/",
          "height": 417
        },
        "id": "7QC5nt9W3WQF",
        "outputId": "da3ccc18-82ef-418b-a883-4477fd8a6446"
      },
      "execution_count": 7,
      "outputs": [
        {
          "output_type": "error",
          "ename": "ValueError",
          "evalue": "ignored",
          "traceback": [
            "\u001b[0;31m---------------------------------------------------------------------------\u001b[0m",
            "\u001b[0;31mValueError\u001b[0m                                Traceback (most recent call last)",
            "\u001b[0;32m/usr/local/lib/python3.10/dist-packages/IPython/core/formatters.py\u001b[0m in \u001b[0;36m__call__\u001b[0;34m(self, obj)\u001b[0m\n\u001b[1;32m    339\u001b[0m                 \u001b[0;32mpass\u001b[0m\u001b[0;34m\u001b[0m\u001b[0;34m\u001b[0m\u001b[0m\n\u001b[1;32m    340\u001b[0m             \u001b[0;32melse\u001b[0m\u001b[0;34m:\u001b[0m\u001b[0;34m\u001b[0m\u001b[0;34m\u001b[0m\u001b[0m\n\u001b[0;32m--> 341\u001b[0;31m                 \u001b[0;32mreturn\u001b[0m \u001b[0mprinter\u001b[0m\u001b[0;34m(\u001b[0m\u001b[0mobj\u001b[0m\u001b[0;34m)\u001b[0m\u001b[0;34m\u001b[0m\u001b[0;34m\u001b[0m\u001b[0m\n\u001b[0m\u001b[1;32m    342\u001b[0m             \u001b[0;31m# Finally look for special method names\u001b[0m\u001b[0;34m\u001b[0m\u001b[0;34m\u001b[0m\u001b[0m\n\u001b[1;32m    343\u001b[0m             \u001b[0mmethod\u001b[0m \u001b[0;34m=\u001b[0m \u001b[0mget_real_method\u001b[0m\u001b[0;34m(\u001b[0m\u001b[0mobj\u001b[0m\u001b[0;34m,\u001b[0m \u001b[0mself\u001b[0m\u001b[0;34m.\u001b[0m\u001b[0mprint_method\u001b[0m\u001b[0;34m)\u001b[0m\u001b[0;34m\u001b[0m\u001b[0;34m\u001b[0m\u001b[0m\n",
            "\u001b[0;32m/usr/local/lib/python3.10/dist-packages/IPython/core/pylabtools.py\u001b[0m in \u001b[0;36mprint_figure\u001b[0;34m(fig, fmt, bbox_inches, base64, **kwargs)\u001b[0m\n\u001b[1;32m    149\u001b[0m         \u001b[0mFigureCanvasBase\u001b[0m\u001b[0;34m(\u001b[0m\u001b[0mfig\u001b[0m\u001b[0;34m)\u001b[0m\u001b[0;34m\u001b[0m\u001b[0;34m\u001b[0m\u001b[0m\n\u001b[1;32m    150\u001b[0m \u001b[0;34m\u001b[0m\u001b[0m\n\u001b[0;32m--> 151\u001b[0;31m     \u001b[0mfig\u001b[0m\u001b[0;34m.\u001b[0m\u001b[0mcanvas\u001b[0m\u001b[0;34m.\u001b[0m\u001b[0mprint_figure\u001b[0m\u001b[0;34m(\u001b[0m\u001b[0mbytes_io\u001b[0m\u001b[0;34m,\u001b[0m \u001b[0;34m**\u001b[0m\u001b[0mkw\u001b[0m\u001b[0;34m)\u001b[0m\u001b[0;34m\u001b[0m\u001b[0;34m\u001b[0m\u001b[0m\n\u001b[0m\u001b[1;32m    152\u001b[0m     \u001b[0mdata\u001b[0m \u001b[0;34m=\u001b[0m \u001b[0mbytes_io\u001b[0m\u001b[0;34m.\u001b[0m\u001b[0mgetvalue\u001b[0m\u001b[0;34m(\u001b[0m\u001b[0;34m)\u001b[0m\u001b[0;34m\u001b[0m\u001b[0;34m\u001b[0m\u001b[0m\n\u001b[1;32m    153\u001b[0m     \u001b[0;32mif\u001b[0m \u001b[0mfmt\u001b[0m \u001b[0;34m==\u001b[0m \u001b[0;34m'svg'\u001b[0m\u001b[0;34m:\u001b[0m\u001b[0;34m\u001b[0m\u001b[0;34m\u001b[0m\u001b[0m\n",
            "\u001b[0;32m/usr/local/lib/python3.10/dist-packages/matplotlib/backend_bases.py\u001b[0m in \u001b[0;36mprint_figure\u001b[0;34m(self, filename, dpi, facecolor, edgecolor, orientation, format, bbox_inches, pad_inches, bbox_extra_artists, backend, **kwargs)\u001b[0m\n\u001b[1;32m   2364\u001b[0m                 \u001b[0;31m# force the figure dpi to 72), so we need to set it again here.\u001b[0m\u001b[0;34m\u001b[0m\u001b[0;34m\u001b[0m\u001b[0m\n\u001b[1;32m   2365\u001b[0m                 \u001b[0;32mwith\u001b[0m \u001b[0mcbook\u001b[0m\u001b[0;34m.\u001b[0m\u001b[0m_setattr_cm\u001b[0m\u001b[0;34m(\u001b[0m\u001b[0mself\u001b[0m\u001b[0;34m.\u001b[0m\u001b[0mfigure\u001b[0m\u001b[0;34m,\u001b[0m \u001b[0mdpi\u001b[0m\u001b[0;34m=\u001b[0m\u001b[0mdpi\u001b[0m\u001b[0;34m)\u001b[0m\u001b[0;34m:\u001b[0m\u001b[0;34m\u001b[0m\u001b[0;34m\u001b[0m\u001b[0m\n\u001b[0;32m-> 2366\u001b[0;31m                     result = print_method(\n\u001b[0m\u001b[1;32m   2367\u001b[0m                         \u001b[0mfilename\u001b[0m\u001b[0;34m,\u001b[0m\u001b[0;34m\u001b[0m\u001b[0;34m\u001b[0m\u001b[0m\n\u001b[1;32m   2368\u001b[0m                         \u001b[0mfacecolor\u001b[0m\u001b[0;34m=\u001b[0m\u001b[0mfacecolor\u001b[0m\u001b[0;34m,\u001b[0m\u001b[0;34m\u001b[0m\u001b[0;34m\u001b[0m\u001b[0m\n",
            "\u001b[0;32m/usr/local/lib/python3.10/dist-packages/matplotlib/backend_bases.py\u001b[0m in \u001b[0;36m<lambda>\u001b[0;34m(*args, **kwargs)\u001b[0m\n\u001b[1;32m   2230\u001b[0m                 \"bbox_inches_restore\"}\n\u001b[1;32m   2231\u001b[0m             \u001b[0mskip\u001b[0m \u001b[0;34m=\u001b[0m \u001b[0moptional_kws\u001b[0m \u001b[0;34m-\u001b[0m \u001b[0;34m{\u001b[0m\u001b[0;34m*\u001b[0m\u001b[0minspect\u001b[0m\u001b[0;34m.\u001b[0m\u001b[0msignature\u001b[0m\u001b[0;34m(\u001b[0m\u001b[0mmeth\u001b[0m\u001b[0;34m)\u001b[0m\u001b[0;34m.\u001b[0m\u001b[0mparameters\u001b[0m\u001b[0;34m}\u001b[0m\u001b[0;34m\u001b[0m\u001b[0;34m\u001b[0m\u001b[0m\n\u001b[0;32m-> 2232\u001b[0;31m             print_method = functools.wraps(meth)(lambda *args, **kwargs: meth(\n\u001b[0m\u001b[1;32m   2233\u001b[0m                 *args, **{k: v for k, v in kwargs.items() if k not in skip}))\n\u001b[1;32m   2234\u001b[0m         \u001b[0;32melse\u001b[0m\u001b[0;34m:\u001b[0m  \u001b[0;31m# Let third-parties do as they see fit.\u001b[0m\u001b[0;34m\u001b[0m\u001b[0;34m\u001b[0m\u001b[0m\n",
            "\u001b[0;32m/usr/local/lib/python3.10/dist-packages/matplotlib/backends/backend_agg.py\u001b[0m in \u001b[0;36mprint_png\u001b[0;34m(self, filename_or_obj, metadata, pil_kwargs)\u001b[0m\n\u001b[1;32m    507\u001b[0m             \u001b[0;34m*\u001b[0m\u001b[0mmetadata\u001b[0m\u001b[0;34m*\u001b[0m\u001b[0;34m,\u001b[0m \u001b[0mincluding\u001b[0m \u001b[0mthe\u001b[0m \u001b[0mdefault\u001b[0m \u001b[0;34m'Software'\u001b[0m \u001b[0mkey\u001b[0m\u001b[0;34m.\u001b[0m\u001b[0;34m\u001b[0m\u001b[0;34m\u001b[0m\u001b[0m\n\u001b[1;32m    508\u001b[0m         \"\"\"\n\u001b[0;32m--> 509\u001b[0;31m         \u001b[0mself\u001b[0m\u001b[0;34m.\u001b[0m\u001b[0m_print_pil\u001b[0m\u001b[0;34m(\u001b[0m\u001b[0mfilename_or_obj\u001b[0m\u001b[0;34m,\u001b[0m \u001b[0;34m\"png\"\u001b[0m\u001b[0;34m,\u001b[0m \u001b[0mpil_kwargs\u001b[0m\u001b[0;34m,\u001b[0m \u001b[0mmetadata\u001b[0m\u001b[0;34m)\u001b[0m\u001b[0;34m\u001b[0m\u001b[0;34m\u001b[0m\u001b[0m\n\u001b[0m\u001b[1;32m    510\u001b[0m \u001b[0;34m\u001b[0m\u001b[0m\n\u001b[1;32m    511\u001b[0m     \u001b[0;32mdef\u001b[0m \u001b[0mprint_to_buffer\u001b[0m\u001b[0;34m(\u001b[0m\u001b[0mself\u001b[0m\u001b[0;34m)\u001b[0m\u001b[0;34m:\u001b[0m\u001b[0;34m\u001b[0m\u001b[0;34m\u001b[0m\u001b[0m\n",
            "\u001b[0;32m/usr/local/lib/python3.10/dist-packages/matplotlib/backends/backend_agg.py\u001b[0m in \u001b[0;36m_print_pil\u001b[0;34m(self, filename_or_obj, fmt, pil_kwargs, metadata)\u001b[0m\n\u001b[1;32m    455\u001b[0m         *pil_kwargs* and *metadata* are forwarded).\n\u001b[1;32m    456\u001b[0m         \"\"\"\n\u001b[0;32m--> 457\u001b[0;31m         \u001b[0mFigureCanvasAgg\u001b[0m\u001b[0;34m.\u001b[0m\u001b[0mdraw\u001b[0m\u001b[0;34m(\u001b[0m\u001b[0mself\u001b[0m\u001b[0;34m)\u001b[0m\u001b[0;34m\u001b[0m\u001b[0;34m\u001b[0m\u001b[0m\n\u001b[0m\u001b[1;32m    458\u001b[0m         mpl.image.imsave(\n\u001b[1;32m    459\u001b[0m             \u001b[0mfilename_or_obj\u001b[0m\u001b[0;34m,\u001b[0m \u001b[0mself\u001b[0m\u001b[0;34m.\u001b[0m\u001b[0mbuffer_rgba\u001b[0m\u001b[0;34m(\u001b[0m\u001b[0;34m)\u001b[0m\u001b[0;34m,\u001b[0m \u001b[0mformat\u001b[0m\u001b[0;34m=\u001b[0m\u001b[0mfmt\u001b[0m\u001b[0;34m,\u001b[0m \u001b[0morigin\u001b[0m\u001b[0;34m=\u001b[0m\u001b[0;34m\"upper\"\u001b[0m\u001b[0;34m,\u001b[0m\u001b[0;34m\u001b[0m\u001b[0;34m\u001b[0m\u001b[0m\n",
            "\u001b[0;32m/usr/local/lib/python3.10/dist-packages/matplotlib/backends/backend_agg.py\u001b[0m in \u001b[0;36mdraw\u001b[0;34m(self)\u001b[0m\n\u001b[1;32m    392\u001b[0m     \u001b[0;32mdef\u001b[0m \u001b[0mdraw\u001b[0m\u001b[0;34m(\u001b[0m\u001b[0mself\u001b[0m\u001b[0;34m)\u001b[0m\u001b[0;34m:\u001b[0m\u001b[0;34m\u001b[0m\u001b[0;34m\u001b[0m\u001b[0m\n\u001b[1;32m    393\u001b[0m         \u001b[0;31m# docstring inherited\u001b[0m\u001b[0;34m\u001b[0m\u001b[0;34m\u001b[0m\u001b[0m\n\u001b[0;32m--> 394\u001b[0;31m         \u001b[0mself\u001b[0m\u001b[0;34m.\u001b[0m\u001b[0mrenderer\u001b[0m \u001b[0;34m=\u001b[0m \u001b[0mself\u001b[0m\u001b[0;34m.\u001b[0m\u001b[0mget_renderer\u001b[0m\u001b[0;34m(\u001b[0m\u001b[0;34m)\u001b[0m\u001b[0;34m\u001b[0m\u001b[0;34m\u001b[0m\u001b[0m\n\u001b[0m\u001b[1;32m    395\u001b[0m         \u001b[0mself\u001b[0m\u001b[0;34m.\u001b[0m\u001b[0mrenderer\u001b[0m\u001b[0;34m.\u001b[0m\u001b[0mclear\u001b[0m\u001b[0;34m(\u001b[0m\u001b[0;34m)\u001b[0m\u001b[0;34m\u001b[0m\u001b[0;34m\u001b[0m\u001b[0m\n\u001b[1;32m    396\u001b[0m         \u001b[0;31m# Acquire a lock on the shared font cache.\u001b[0m\u001b[0;34m\u001b[0m\u001b[0;34m\u001b[0m\u001b[0m\n",
            "\u001b[0;32m/usr/local/lib/python3.10/dist-packages/matplotlib/_api/deprecation.py\u001b[0m in \u001b[0;36mwrapper\u001b[0;34m(*inner_args, **inner_kwargs)\u001b[0m\n\u001b[1;32m    382\u001b[0m             \u001b[0;31m# Early return in the simple, non-deprecated case (much faster than\u001b[0m\u001b[0;34m\u001b[0m\u001b[0;34m\u001b[0m\u001b[0m\n\u001b[1;32m    383\u001b[0m             \u001b[0;31m# calling bind()).\u001b[0m\u001b[0;34m\u001b[0m\u001b[0;34m\u001b[0m\u001b[0m\n\u001b[0;32m--> 384\u001b[0;31m             \u001b[0;32mreturn\u001b[0m \u001b[0mfunc\u001b[0m\u001b[0;34m(\u001b[0m\u001b[0;34m*\u001b[0m\u001b[0minner_args\u001b[0m\u001b[0;34m,\u001b[0m \u001b[0;34m**\u001b[0m\u001b[0minner_kwargs\u001b[0m\u001b[0;34m)\u001b[0m\u001b[0;34m\u001b[0m\u001b[0;34m\u001b[0m\u001b[0m\n\u001b[0m\u001b[1;32m    385\u001b[0m         \u001b[0marguments\u001b[0m \u001b[0;34m=\u001b[0m \u001b[0msignature\u001b[0m\u001b[0;34m.\u001b[0m\u001b[0mbind\u001b[0m\u001b[0;34m(\u001b[0m\u001b[0;34m*\u001b[0m\u001b[0minner_args\u001b[0m\u001b[0;34m,\u001b[0m \u001b[0;34m**\u001b[0m\u001b[0minner_kwargs\u001b[0m\u001b[0;34m)\u001b[0m\u001b[0;34m.\u001b[0m\u001b[0marguments\u001b[0m\u001b[0;34m\u001b[0m\u001b[0;34m\u001b[0m\u001b[0m\n\u001b[1;32m    386\u001b[0m         \u001b[0;32mif\u001b[0m \u001b[0mis_varargs\u001b[0m \u001b[0;32mand\u001b[0m \u001b[0marguments\u001b[0m\u001b[0;34m.\u001b[0m\u001b[0mget\u001b[0m\u001b[0;34m(\u001b[0m\u001b[0mname\u001b[0m\u001b[0;34m)\u001b[0m\u001b[0;34m:\u001b[0m\u001b[0;34m\u001b[0m\u001b[0;34m\u001b[0m\u001b[0m\n",
            "\u001b[0;32m/usr/local/lib/python3.10/dist-packages/matplotlib/backends/backend_agg.py\u001b[0m in \u001b[0;36mget_renderer\u001b[0;34m(self, cleared)\u001b[0m\n\u001b[1;32m    409\u001b[0m         \u001b[0mreuse_renderer\u001b[0m \u001b[0;34m=\u001b[0m \u001b[0;34m(\u001b[0m\u001b[0mself\u001b[0m\u001b[0;34m.\u001b[0m\u001b[0m_lastKey\u001b[0m \u001b[0;34m==\u001b[0m \u001b[0mkey\u001b[0m\u001b[0;34m)\u001b[0m\u001b[0;34m\u001b[0m\u001b[0;34m\u001b[0m\u001b[0m\n\u001b[1;32m    410\u001b[0m         \u001b[0;32mif\u001b[0m \u001b[0;32mnot\u001b[0m \u001b[0mreuse_renderer\u001b[0m\u001b[0;34m:\u001b[0m\u001b[0;34m\u001b[0m\u001b[0;34m\u001b[0m\u001b[0m\n\u001b[0;32m--> 411\u001b[0;31m             \u001b[0mself\u001b[0m\u001b[0;34m.\u001b[0m\u001b[0mrenderer\u001b[0m \u001b[0;34m=\u001b[0m \u001b[0mRendererAgg\u001b[0m\u001b[0;34m(\u001b[0m\u001b[0mw\u001b[0m\u001b[0;34m,\u001b[0m \u001b[0mh\u001b[0m\u001b[0;34m,\u001b[0m \u001b[0mself\u001b[0m\u001b[0;34m.\u001b[0m\u001b[0mfigure\u001b[0m\u001b[0;34m.\u001b[0m\u001b[0mdpi\u001b[0m\u001b[0;34m)\u001b[0m\u001b[0;34m\u001b[0m\u001b[0;34m\u001b[0m\u001b[0m\n\u001b[0m\u001b[1;32m    412\u001b[0m             \u001b[0mself\u001b[0m\u001b[0;34m.\u001b[0m\u001b[0m_lastKey\u001b[0m \u001b[0;34m=\u001b[0m \u001b[0mkey\u001b[0m\u001b[0;34m\u001b[0m\u001b[0;34m\u001b[0m\u001b[0m\n\u001b[1;32m    413\u001b[0m         \u001b[0;32melif\u001b[0m \u001b[0mcleared\u001b[0m\u001b[0;34m:\u001b[0m\u001b[0;34m\u001b[0m\u001b[0;34m\u001b[0m\u001b[0m\n",
            "\u001b[0;32m/usr/local/lib/python3.10/dist-packages/matplotlib/backends/backend_agg.py\u001b[0m in \u001b[0;36m__init__\u001b[0;34m(self, width, height, dpi)\u001b[0m\n\u001b[1;32m     82\u001b[0m         \u001b[0mself\u001b[0m\u001b[0;34m.\u001b[0m\u001b[0mwidth\u001b[0m \u001b[0;34m=\u001b[0m \u001b[0mwidth\u001b[0m\u001b[0;34m\u001b[0m\u001b[0;34m\u001b[0m\u001b[0m\n\u001b[1;32m     83\u001b[0m         \u001b[0mself\u001b[0m\u001b[0;34m.\u001b[0m\u001b[0mheight\u001b[0m \u001b[0;34m=\u001b[0m \u001b[0mheight\u001b[0m\u001b[0;34m\u001b[0m\u001b[0;34m\u001b[0m\u001b[0m\n\u001b[0;32m---> 84\u001b[0;31m         \u001b[0mself\u001b[0m\u001b[0;34m.\u001b[0m\u001b[0m_renderer\u001b[0m \u001b[0;34m=\u001b[0m \u001b[0m_RendererAgg\u001b[0m\u001b[0;34m(\u001b[0m\u001b[0mint\u001b[0m\u001b[0;34m(\u001b[0m\u001b[0mwidth\u001b[0m\u001b[0;34m)\u001b[0m\u001b[0;34m,\u001b[0m \u001b[0mint\u001b[0m\u001b[0;34m(\u001b[0m\u001b[0mheight\u001b[0m\u001b[0;34m)\u001b[0m\u001b[0;34m,\u001b[0m \u001b[0mdpi\u001b[0m\u001b[0;34m)\u001b[0m\u001b[0;34m\u001b[0m\u001b[0;34m\u001b[0m\u001b[0m\n\u001b[0m\u001b[1;32m     85\u001b[0m         \u001b[0mself\u001b[0m\u001b[0;34m.\u001b[0m\u001b[0m_filter_renderers\u001b[0m \u001b[0;34m=\u001b[0m \u001b[0;34m[\u001b[0m\u001b[0;34m]\u001b[0m\u001b[0;34m\u001b[0m\u001b[0;34m\u001b[0m\u001b[0m\n\u001b[1;32m     86\u001b[0m \u001b[0;34m\u001b[0m\u001b[0m\n",
            "\u001b[0;31mValueError\u001b[0m: Image size of 711x84276 pixels is too large. It must be less than 2^16 in each direction."
          ]
        },
        {
          "output_type": "display_data",
          "data": {
            "text/plain": [
              "<Figure size 800x600 with 1 Axes>"
            ]
          },
          "metadata": {}
        }
      ]
    },
    {
      "cell_type": "markdown",
      "source": [
        "*Dataset is quite balanced.*"
      ],
      "metadata": {
        "id": "bGxD1uv16dZ9"
      }
    },
    {
      "cell_type": "markdown",
      "source": [
        "# **2. Train and test set**"
      ],
      "metadata": {
        "id": "8DYsOd7LaTa-"
      }
    },
    {
      "cell_type": "code",
      "source": [
        "train_path = 'drive/MyDrive/faces/train'"
      ],
      "metadata": {
        "id": "1kfAQIIIalEe"
      },
      "execution_count": 8,
      "outputs": []
    },
    {
      "cell_type": "code",
      "source": [
        "test_path = 'drive/MyDrive/faces/test'"
      ],
      "metadata": {
        "id": "qHrBUtwlandr"
      },
      "execution_count": 9,
      "outputs": []
    },
    {
      "cell_type": "code",
      "source": [
        "def create_set(faces, path, new_path, set_size):\n",
        "  for face in faces:\n",
        "    files_folder = os.listdir(f'{path}/{face}')\n",
        "    for n in range(0, round(len(files_folder)*set_size)):\n",
        "      files_folder = os.listdir(f'{path}/{face}')\n",
        "      photo_number = np.random.randint(len(files_folder))\n",
        "      print(photo_number)\n",
        "      os.makedirs(f'{new_path}/{face}', exist_ok=True)\n",
        "      os.replace(f'{path}/{face}/{files_folder[photo_number]}', f'{new_path}/{face}/{files_folder[photo_number]}')"
      ],
      "metadata": {
        "id": "g_WnUbYGaeyq"
      },
      "execution_count": 10,
      "outputs": []
    },
    {
      "cell_type": "code",
      "source": [
        "#creating train set\n",
        "create_set(people, data_path, train_path, 0.8)"
      ],
      "metadata": {
        "id": "3FWCVi5rdn5y"
      },
      "execution_count": null,
      "outputs": []
    },
    {
      "cell_type": "code",
      "source": [
        "#creating test set\n",
        "create_set(people, data_path, test_path, 1)"
      ],
      "metadata": {
        "id": "sJSaMNw-fw86"
      },
      "execution_count": null,
      "outputs": []
    },
    {
      "cell_type": "markdown",
      "source": [
        "# **3. Face detection**"
      ],
      "metadata": {
        "id": "WeMdih2S6xKL"
      }
    },
    {
      "cell_type": "code",
      "source": [
        "face_classifier = cv2.CascadeClassifier(cv2.data.haarcascades + \"haarcascade_frontalface_default.xml\")\n",
        "def face_recognition(photo, array):\n",
        "  image = cv2.imread(photo)\n",
        "  gray_image = cv2.cvtColor(image, cv2.COLOR_BGR2GRAY)\n",
        "  face = face_classifier.detectMultiScale(gray_image, 1.3, 4)\n",
        "  if len(face) > 0:\n",
        "   for i, (x, y, w, h) in enumerate(face):\n",
        "      cv2.rectangle(image, (x, y), (x + w, y + h), (0, 255, 255), 2)\n",
        "      face = image[y:y + h, x:x + w]\n",
        "      array.append(face)"
      ],
      "metadata": {
        "id": "BUx9eC-UQPNm"
      },
      "execution_count": 11,
      "outputs": []
    },
    {
      "cell_type": "code",
      "source": [
        "smiling_faces = []\n",
        "anger_faces = []\n",
        "disgust_faces = []\n",
        "fear_faces = []\n",
        "surprise_faces = []\n",
        "def faces_array(array, photos, path):\n",
        "  files_folder = os.listdir(f'{path}/{photos}')\n",
        "  print(f'{path}/{photos}')\n",
        "  for i in range(0, len(files_folder)):\n",
        "    img_path = f'{path}/{photos}/{files_folder[i]}'\n",
        "    print(img_path)\n",
        "    face_recognition(img_path, array)"
      ],
      "metadata": {
        "id": "AfYm90UTVP8r"
      },
      "execution_count": 12,
      "outputs": []
    },
    {
      "cell_type": "code",
      "source": [
        "# ['smiling-person', 'anger-person', 'disgust-person', 'fear-person', 'surprise-person' ]\n",
        "faces_array(smiling_faces, \"smiling-person\", train_path)\n",
        "faces_array(anger_faces, \"anger-person\", train_path)\n",
        "faces_array(disgust_faces, \"disgust-person\", train_path)\n",
        "faces_array(fear_faces, \"fear-person\", train_path)\n",
        "faces_array(surprise_faces, \"surprise-person\", train_path)"
      ],
      "metadata": {
        "id": "NDJKx5CBbfwV"
      },
      "execution_count": null,
      "outputs": []
    },
    {
      "cell_type": "code",
      "source": [
        "faces_array(smiling_faces, \"smiling-person\", test_path)\n",
        "faces_array(anger_faces, \"anger-person\", test_path)\n",
        "faces_array(disgust_faces, \"disgust-person\", test_path)\n",
        "faces_array(fear_faces, \"fear-person\", test_path)\n",
        "faces_array(surprise_faces, \"surprise-person\", test_path)"
      ],
      "metadata": {
        "colab": {
          "base_uri": "https://localhost:8080/"
        },
        "id": "h0YbCzDG2pL5",
        "outputId": "b13aa5c1-d9a7-4301-fa44-6f1608824187"
      },
      "execution_count": null,
      "outputs": [
        {
          "output_type": "stream",
          "name": "stdout",
          "text": [
            "drive/MyDrive/faces/test/smiling-person\n",
            "drive/MyDrive/faces/test/smiling-person/pewny-siebie-m%C5%82ody-m%C4%99%C5%BCczyzna-w-swobodnej-zielonej-koszuli-patrz%C4%85cy-z-dala-stoj%C4%85c-ze.jpg?s=612x612&w=0&k=20&c=qvotBSKmlWEpUBS0Lg7KXNfpY7M94XnQyzLpvlf2bPc=\n",
            "drive/MyDrive/faces/test/smiling-person/rodzina-w-domu.jpg?s=612x612&w=0&k=20&c=QyxHO-AtTZLVt5i0nn2ywe7jspXVe5jWohA_y16-lGA=\n",
            "drive/MyDrive/faces/test/smiling-person/weso%C5%82y-m%C5%82ody-sportowiec-na-%C5%9Bwie%C5%BCym-powietrzu-nad-rzek%C4%85.jpg?s=612x612&w=0&k=20&c=fu9621qgNcOuYkWBNvOysyeTBtYqEllM5NlYjaiDmq0=\n",
            "drive/MyDrive/faces/test/smiling-person/dojrza%C5%82y-mieszany-cz%C5%82owiek-biznesu-rasy.jpg?s=612x612&w=0&k=20&c=GrghENJn2cnLe9h8LnG93vk0KxWoLBA-DjLPP2p_Afk=\n",
            "drive/MyDrive/faces/test/smiling-person/zr%C3%B3%C5%BCnicowani-koledzy-z-biura-%C5%9Bmiej%C4%85-si%C4%99-razem-podczas-spotkania.jpg?s=612x612&w=0&k=20&c=o-sqSOHzzCQZu6tuZ8NWY7lgxrpg7iXIkafe4EgfMV0=\n",
            "drive/MyDrive/faces/test/smiling-person/szcz%C4%99%C5%9Bliwa-kobieta-wdychaj%C4%85c-w-domu.jpg?s=612x612&w=0&k=20&c=7i1HjGokPKoXtjfXvVKzb37oKKk5Xw_UEKBLsSf5AkU=\n",
            "drive/MyDrive/faces/test/smiling-person/pewna-siebie-u%C5%9Bmiechni%C4%99ta-afroamerykanka-ze-skrzy%C5%BCowanymi-r%C4%99kami-na-klatce-piersiowej.jpg?s=612x612&w=0&k=20&c=gUbK8bLSJ0cW20W7dVz_tMHS3JNfJWte1lvRSufQfHo=\n",
            "drive/MyDrive/faces/test/smiling-person/zbli%C5%BCenie-portret-jego-on-mi%C5%82y-atrakcyjny-zadowolony-weso%C5%82y-weso%C5%82y-facet-wskazuj%C4%85c-palec.jpg?s=612x612&w=0&k=20&c=BZd0PiTip_LSvwKfvQXqEzEnz27rEG65r6uvuadtZvE=\n",
            "drive/MyDrive/faces/test/smiling-person/zainspiruj-swoje-zespo%C5%82y-do-osi%C4%85gania.jpg?s=612x612&w=0&k=20&c=ziGL4crBg8EXM-jEO0UtrxQkXjIL42mv1dQvHJb7-Pw=\n",
            "drive/MyDrive/faces/test/smiling-person/zobaczcie.jpg?s=612x612&w=0&k=20&c=E7_S3_W4eCXorB30A5yRJc1SLTm-l4F_pkMM4m2g1iA=\n",
            "drive/MyDrive/faces/test/smiling-person/fitness-kobieta-s%C5%82uchanie-muzyki-na-s%C5%82uchawkach-bezprzewodowych.jpg?s=612x612&w=0&k=20&c=6w_vJ6Zme-7UpKqKSQndiVib2uu6t75O0Nr4pVBG4q0=\n",
            "drive/MyDrive/faces/test/smiling-person/wspania%C5%82e-do-zobaczenia-pierwsz%C4%85-rzecz%C4%85-w-poniedzia%C5%82ek.jpg?s=612x612&w=0&k=20&c=aiLmS7jvhogJGsSjgwoqgbp7YQClUEag1jtz1qjiZ4I=\n",
            "drive/MyDrive/faces/test/smiling-person/mi%C5%82o%C5%9B%C4%87-najlepszych-przyjaci%C3%B3%C5%82.jpg?s=612x612&w=0&k=20&c=ccYUGUdo7GnPn8Bh6qf3IpOQLO7KmPrZu8xCqK6qbXA=\n",
            "drive/MyDrive/faces/test/smiling-person/m%C5%82ody-u%C5%9Bmiechni%C4%99ty-przystojny-m%C4%99%C5%BCczyzna-w-swobodnych-ubraniach-pozuj%C4%85cych-odizolowanych-na.jpg?s=612x612&w=0&k=20&c=Yb8ICAfhLz5924QzpY0mrlJ7rt-lI5QBEAlUA1yXFCI=\n",
            "drive/MyDrive/faces/test/smiling-person/szcz%C4%99%C5%9Bliwa-indyjska-matka-bawi%C4%85c-si%C4%99-z-c%C3%B3rk%C4%85-na-%C5%9Bwie%C5%BCym-powietrzu-koncepcja-rodziny-i.jpg?s=612x612&w=0&k=20&c=AKGbCJbjWc3kxacTpFjs5QpcH9hyJGGSp6AYP6tQljo=\n",
            "drive/MyDrive/faces/test/smiling-person/portret-m%C5%82odej-u%C5%9Bmiechni%C4%99tej-kobiety-twarz-cz%C4%99%C5%9Bciowo-pokryte-lataj%C4%85ce-w%C5%82osy-w-wietrzny.jpg?s=612x612&w=0&k=20&c=DQPRK4zjudv2MXslFwIEJUok_cV1TRpeKSqHjjRBy8E=\n",
            "drive/MyDrive/faces/test/smiling-person/udana-u%C5%9Bmiechni%C4%99ta-kobieta-ubrana-w-okulary-na-szarej-%C5%9Bcianie.jpg?s=612x612&w=0&k=20&c=9CvKYulgSjge6zGt1hthHmCEUkg2wGK6kTPMcpbw-kA=\n",
            "drive/MyDrive/faces/test/smiling-person/weso%C5%82a-kobieta-biznesu-w-okularach-pozuj%C4%85ca-z-r%C4%99kami-pod-twarz%C4%85-pokazuj%C4%85ca-sw%C3%B3j-u%C5%9Bmiech-w.jpg?s=612x612&w=0&k=20&c=oaxW-EETRZoy5ckiEax0sodRC-WnNIq_giNwGFKcgBc=\n",
            "drive/MyDrive/faces/test/smiling-person/portret-szcz%C4%99%C5%9Bliwego-dojrza%C5%82ego-m%C4%99%C5%BCczyzny-nosz%C4%85cego-okulary-i-patrz%C4%85cego-na-kamer%C4%99-w.jpg?s=612x612&w=0&k=20&c=cC14ZGch_PbhGimcrpNX30ZAxkbx_RCpPYUQ_BJbFEw=\n",
            "drive/MyDrive/faces/test/smiling-person/pi%C4%99kna-u%C5%9Bmiechni%C4%99ta-afryka%C5%84ska-bizneswoman-etniczna.jpg?s=612x612&w=0&k=20&c=1YB4ujZlRGb3y8UVUvSCUtdb9B1afRRMWbuCZSHW9YE=\n",
            "drive/MyDrive/faces/test/smiling-person/szcz%C4%99%C5%9Bliwa-czarna-bizneswoman-korzystaj%C4%85ca-ze-smartfona-w-kreatywnym-biurze.jpg?s=612x612&w=0&k=20&c=qHrX5Ao7fqsq3LBPTOlKBypWrUILMWPGhFVXfyTXFw8=\n",
            "drive/MyDrive/faces/test/smiling-person/latin-m%C5%82ody-cz%C5%82owiek-w-studio.jpg?s=612x612&w=0&k=20&c=QrHNKmY50IWLVcW7tF7btGWICVJTybE3Bq-H91L3zJM=\n",
            "drive/MyDrive/faces/test/smiling-person/u%C5%9Bmiechni%C4%99ty-m%C4%99%C5%BCczyzna-na-zewn%C4%85trz-w-mie%C5%9Bcie.jpg?s=612x612&w=0&k=20&c=b1-tv7wv5ptnCB5XgVu2VExMsqzus91a5CocpoPurcA=\n",
            "drive/MyDrive/faces/test/smiling-person/u%C5%9Bmiechni%C4%99ty-indyjski-m%C4%99%C5%BCczyzna-patrz%C4%85cy-na-kamer%C4%99.jpg?s=612x612&w=0&k=20&c=EXBRxy0OnGlYsOd8zMHT110IBBleOtpxI8NSH-0OJPY=\n",
            "drive/MyDrive/faces/test/smiling-person/miejska-szcz%C4%99%C5%9Bliwa-kobieta-biznesu-za-pomoc%C4%85-tabletu-i-pracy.jpg?s=612x612&w=0&k=20&c=GxvtRoSXpMmvqMwxWgdihDClkciEaKlb1_wdCyw9rtw=\n",
            "drive/MyDrive/faces/test/smiling-person/dziadek-przytula-wnuki-na-kanapie.jpg?s=612x612&w=0&k=20&c=rpp0XBCtTQtMc4Yjt2ubQ9TOPnphMXk92GIBqBfYHEo=\n",
            "drive/MyDrive/faces/test/smiling-person/portret-u%C5%9Bmiechni%C4%99tego-starszego-kelnera-patrz%C4%85cego-na-kamer%C4%99.jpg?s=612x612&w=0&k=20&c=0_ObLctR8tvY3EaAi3Rcl4vhyergIfEoJymbfu7D62U=\n",
            "drive/MyDrive/faces/test/smiling-person/m%C4%99%C5%BCczyzna-korzystaj%C4%85cy-ze-smartfona-i-patrz%C4%85cy-na-aparat-na-bia%C5%82ym-tle.jpg?s=612x612&w=0&k=20&c=IF2QIFiN1wsJH77FGNgz3r6az64cTeTPU4JviyJ-oSA=\n",
            "drive/MyDrive/faces/test/smiling-person/zbli%C5%BCenie-pi%C4%99knej-m%C5%82odej-kobiety-stoj%C4%85cej-na-zewn%C4%85trz.jpg?s=612x612&w=0&k=20&c=NAuDMCQOmFgpfVN_kYPwog1qbG4umHTZAJGPkmNjyUA=\n",
            "drive/MyDrive/faces/test/smiling-person/szcz%C4%99%C5%9Bliwa-tysi%C4%85cletnia-latynoska-nastolatka-sprawdzaj%C4%85ca-media-spo%C5%82eczno%C5%9Bciowe-trzymaj%C4%85ca.jpg?s=612x612&w=0&k=20&c=5C42mpU7SPI2u8ZZFRdIGNRfEI_p5e27I1DyQ4Tjy2k=\n",
            "drive/MyDrive/faces/test/smiling-person/szcz%C4%99%C5%9Bliwy-u%C5%9Bmiechni%C4%99ty-m%C4%99%C5%BCczyzna-patrz%C4%85cy-daleko.jpg?s=612x612&w=0&k=20&c=FiWiJlJTQlyOgfJ78JdkMkdvKHPMMHFlhU5f2OKNoLE=\n",
            "drive/MyDrive/faces/test/smiling-person/portret-przystojnego-afro-cz%C5%82owieka-za-pomoc%C4%85-swojego-telefonu-kom%C3%B3rkowego.jpg?s=612x612&w=0&k=20&c=yAU14koBrcy58ZcfUXMKq4CB_uRKXRGcH4CVyJdjuWE=\n",
            "drive/MyDrive/faces/test/smiling-person/portret-szcz%C4%99%C5%9Bliwej-azjatyckiej-bizneswoman.jpg?s=612x612&w=0&k=20&c=uuLMiQo-vf-qw3gKtyeF6dMQW1OPIwQ49BnEvmFXrZQ=\n",
            "drive/MyDrive/faces/test/smiling-person/kobieta-pracuj%C4%85ca-z-telefonem-kom%C3%B3rkowym-i-laptopem.jpg?s=612x612&w=0&k=20&c=jm6hNZNHwSg8qI0uk9hDNhAh95aBb0EV7mnjl3fvqSw=\n",
            "drive/MyDrive/faces/test/smiling-person/prawdziwa-rado%C5%9B%C4%87-kiedy-sch%C5%82adzamy-si%C4%99-z-naszym-ch%C5%82opcem.jpg?s=612x612&w=0&k=20&c=RgQ7tycPelBhhsfdwk2HzgXYkYOPdvlVjZkiBrT8WUQ=\n",
            "drive/MyDrive/faces/test/smiling-person/portret-pewnego-siebie-m%C5%82odego-biznesmena.jpg?s=612x612&w=0&k=20&c=bp-pLgXht-r9SfZMxN_KTyjSzAZmJkba3Pg5KdySoe8=\n",
            "drive/MyDrive/faces/test/smiling-person/portret-pi%C4%99knej-kobiety-hiker-u%C5%9Bmiechni%C4%99ty.jpg?s=612x612&w=0&k=20&c=aMmtpadRnFQlR9PmlgUSc1WM4ZHC48jAOKP9SCl0B3I=\n",
            "drive/MyDrive/faces/test/smiling-person/grupa-wielorasowych-przyjaci%C3%B3%C5%82-bawi%C4%85cych-si%C4%99-na-%C5%9Bwie%C5%BCym-powietrzu-happy-mixed-race-people.jpg?s=612x612&w=0&k=20&c=hrcmMRHj5E93Ctqr5IPoqdZ8q1ZguZMOzDIxxtmL5kc=\n",
            "drive/MyDrive/faces/test/smiling-person/portret-szcz%C4%99%C5%9Bliwego-cz%C5%82owieka-ze-smartfonem-i-laptopem-w-pomieszczeniu.jpg?s=612x612&w=0&k=20&c=Dyv4sqAXWLYv7ne5PlWI7e_czwpNbZuSETg-GZJTzFE=\n",
            "drive/MyDrive/faces/test/smiling-person/atrakcyjna-m%C5%82oda-indyjska-kobieta-u%C5%9Bmiechni%C4%99ta-i-spogl%C4%85daj%C4%85ca-na-przestrze%C5%84-kopiowania.jpg?s=612x612&w=0&k=20&c=EAwn1r-yNyJDvDpR5NDKTsWtXRdSjgqJrbaTPC9kvKA=\n",
            "drive/MyDrive/faces/test/smiling-person/u%C5%9Bmiechni%C4%99ta-m%C5%82oda-kobieta-w-dzielnicy-%C5%9Br%C3%B3dmiejskiej.jpg?s=612x612&w=0&k=20&c=JAdIUnHB89Rj4eI0URTBeGyQoaBNo9FohCIvSZnWgLk=\n",
            "drive/MyDrive/faces/test/smiling-person/zrelaksowana-kobieta-oddychaj%C4%85ca-%C5%9Bwie%C5%BCym-powietrzem-w-zielonym-lesie.jpg?s=612x612&w=0&k=20&c=zFNjsNzVbKaTKJzKEaUcvMd1S4eY9dzyc50hC9Qt_WE=\n",
            "drive/MyDrive/faces/test/smiling-person/pi%C4%99kna-u%C5%9Bmiechni%C4%99ta-kobieta-portret-odizolowany-na-bia%C5%82ym-tle.jpg?s=612x612&w=0&k=20&c=d8KH-JZNXUdRWp0jODw6IfPBxlAURkvZzkvxaU47BQI=\n",
            "drive/MyDrive/faces/test/smiling-person/zesp%C3%B3%C5%82-biznesmen%C3%B3w-u%C5%9Bmiechaj%C4%85cych-si%C4%99-do-kamery-w-sali-konferencyjnej.jpg?s=612x612&w=0&k=20&c=t2vczN7WrN5u6R5960RGIPk1AE0a_sTvuuQTcYPCFg0=\n",
            "drive/MyDrive/faces/test/smiling-person/szcz%C4%99%C5%9Bliwa-zrelaksowana-pewna-siebie-m%C5%82oda-bizneswoman.jpg?s=612x612&w=0&k=20&c=_2L6JeOWJivSNyF5zGTHAzCOsdW4pAvFP3cGrdjNPE0=\n",
            "drive/MyDrive/faces/test/smiling-person/portret-m%C5%82odej-kobiety-w-mie%C5%9Bcie.jpg?s=612x612&w=0&k=20&c=b2iJHUXYkUhLiSz2zQiEQ35MkgrDGRkUYRgEMRHscR4=\n",
            "drive/MyDrive/faces/test/smiling-person/u%C5%9Bmiechni%C4%99ta-dziewczyna-gra-na-hu%C5%9Btawce.jpg?s=612x612&w=0&k=20&c=v7cVUMuHR0toROa_iLJvHeMAos8YBsgUoKj2nkJNKgY=\n",
            "drive/MyDrive/faces/test/smiling-person/u%C5%9Bmiechni%C4%99ta-m%C5%82oda-kobieta-relaksuj%C4%85ca-si%C4%99-siedz%C4%85c-na-wygodnej-kanapie-w-salonie.jpg?s=612x612&w=0&k=20&c=UW4hoHzpD6-YTwjdOLsIoiMASTVqjZ1FVVN8qSu7IXY=\n",
            "drive/MyDrive/faces/test/smiling-person/portret-dw%C3%B3ch-u%C5%9Bmiechni%C4%99tych-par-patrz%C4%85cych-daleko.jpg?s=612x612&w=0&k=20&c=sehQ2PuGdG54VWAk6QxWb4QOwOrkImTXmh9aXtYdCAQ=\n",
            "drive/MyDrive/faces/test/smiling-person/portret-szcz%C4%99%C5%9Bliwej-rodziny.jpg?s=612x612&w=0&k=20&c=HUq4iIH3BTe-ZMnutRA7MhUCn-pIMqmoxYabKXjbTLw=\n",
            "drive/MyDrive/faces/test/smiling-person/m%C5%82oda-kobieta-ubrana-w-okulary.jpg?s=612x612&w=0&k=20&c=yR6sZnepdS_DxAALJkLjnzcnp_S7PYFizudhInszHFI=\n",
            "drive/MyDrive/faces/test/smiling-person/zr%C3%B3%C5%BCnicowane-ludzkie-twarze.jpg?s=612x612&w=0&k=20&c=8OuwCG133PzT2REeFr27pdvGOpd7jjTH5n_9B7BrQeA=\n",
            "drive/MyDrive/faces/test/smiling-person/kobieta-szczotkowanie-z%C4%99b%C3%B3w-w-lustrze.jpg?s=612x612&w=0&k=20&c=kj2dw4kOHHqC7s8o8I-YCjTxC86hX5JnKQLr4Ar-gWo=\n",
            "drive/MyDrive/faces/test/smiling-person/czytanie-porannych-wiadomo%C5%9Bci-online-z-firm%C4%85.jpg?s=612x612&w=0&k=20&c=Tx1XW75zOnZIojIaQ_CiJMDOx49sxq8WLE_38J7mX9w=\n",
            "drive/MyDrive/faces/test/smiling-person/ma-styl-i-doskona%C5%82y-u%C5%9Bmiech.jpg?s=612x612&w=0&k=20&c=C0NkQb_OQOsBlB3QDbVG3FByTbi3vCw-YleZMFRuJ3U=\n",
            "drive/MyDrive/faces/test/smiling-person/%C5%9Bmiej%C4%85ca-si%C4%99-szcz%C4%99%C5%9Bliwa-u%C5%9Bmiechni%C4%99ta-kobieta-wysy%C5%82a-wiadomo%C5%9Bci-na-telefon-kom%C3%B3rkowy-na.jpg?s=612x612&w=0&k=20&c=UbAGUmZVB-ZAQAx_Zs_4I1xM3NyNtofptAg-H7_wed0=\n",
            "drive/MyDrive/faces/test/smiling-person/wdzi%C4%99czna-u%C5%9Bmiechni%C4%99ta-afryka%C5%84ska-dziewczyna-trzymaj%C4%85ca-si%C4%99-za-r%C4%99ce-na-piersi.jpg?s=612x612&w=0&k=20&c=5d6KXBdwkYapEnQNesUg_HrklR-EStOVOwOugKoZY88=\n",
            "drive/MyDrive/faces/test/smiling-person/wieloetnicznymi-rodzicami-daj%C4%85cy-dzieciom-przeja%C5%BCd%C5%BCk%C4%99-piggyback.jpg?s=612x612&w=0&k=20&c=rWPDxHnh31TtCwNGKcsb3BmQxs4zS32CPPYBqny-lt4=\n",
            "drive/MyDrive/faces/test/smiling-person/szcz%C4%99%C5%9Bliwy-dojrza%C5%82y-m%C4%99%C5%BCczyzna-siedz%C4%85cy-w-pobli%C5%BCu-jeziora.jpg?s=612x612&w=0&k=20&c=uPjGPilicUximQ0Op2RV_T5Xm-dYrewaZCO5m057D9g=\n",
            "drive/MyDrive/faces/test/smiling-person/m%C5%82oda-kobieta-id%C4%85ca-ulic%C4%85.jpg?s=612x612&w=0&k=20&c=Z_taVsmnhHUIPYSXfHC3QLL9_HGhFSybrrFHtu_20QQ=\n",
            "drive/MyDrive/faces/test/smiling-person/dwie-m%C5%82ode-kobiety-%C5%9Bmiej%C4%85-si%C4%99-i-trzymaj%C4%85-lody-w-r%C4%99ku.jpg?s=612x612&w=0&k=20&c=DQNZQJe-l_-ZDJ4IW0r9PXOGyJnUWBWfSJO4fFVeIQY=\n",
            "drive/MyDrive/faces/test/smiling-person/szcz%C4%99%C5%9Bliwa-kobieta-ta%C5%84cz%C4%85ca-na-r%C3%B3%C5%BCowym-tle.jpg?s=612x612&w=0&k=20&c=Ag1DHutR6dh-kHtXDdGFHGNdBYvaHYhDm1BNvunkxQE=\n",
            "drive/MyDrive/faces/test/smiling-person/portret-u%C5%9Bmiechni%C4%99tej-dziewczyny-z-kr%C3%B3tkimi-w%C5%82osami.jpg?s=612x612&w=0&k=20&c=nKLq_Xp0Acj06BVSaqG7yLAG4E1uv__5MRaBqVTtEZ8=\n",
            "drive/MyDrive/faces/test/smiling-person/pi%C4%99kna-kobieta-w-casuals-patrz%C4%85c-na-aparat-i-u%C5%9Bmiechni%C4%99ty.jpg?s=612x612&w=0&k=20&c=GZNNlbd8MhJ407BWH7W6eYidM_KqFy5F-qc6zXBuVg0=\n",
            "drive/MyDrive/faces/test/smiling-person/zawsze-jestem-pod%C5%82%C4%85czony-i-w-p%C4%99tli.jpg?s=612x612&w=0&k=20&c=oHbydVot1TCQgT5VXzjOsgOYylu1eCGjHF5Uj4Q6Xq0=\n",
            "drive/MyDrive/faces/test/smiling-person/wiosenny-portret-podekscytowanej-m%C5%82odej-kobiety.jpg?s=612x612&w=0&k=20&c=NZrl_QIus2jxTClFKubef4qnIso8MQWfU5XJVnVZkCw=\n",
            "drive/MyDrive/faces/test/smiling-person/latynoska-kobieta-studiuje-na-laptopie.jpg?s=612x612&w=0&k=20&c=ignYf5-rNlN_02ZeXq4UMo8GhovzatW0yCgjLvsQHRo=\n",
            "drive/MyDrive/faces/test/smiling-person/portret-m%C5%82odego-m%C4%99%C5%BCczyzny-w-%C5%BC%C3%B3%C5%82tej-koszulce-na-podw%C3%B3rku.jpg?s=612x612&w=0&k=20&c=fUAGuxpPQU6fKhfuliO2NyVMOXCBrRu3dk46v_qRui0=\n",
            "drive/MyDrive/faces/test/smiling-person/ma-wiele-cech-kt%C3%B3rych-wielu-nie-ma.jpg?s=612x612&w=0&k=20&c=9P3eaD7PyNUixKHrvyZSxHAt20YO8G5Bm_IyMe587xE=\n",
            "drive/MyDrive/faces/test/smiling-person/matka-i-syn-mi%C5%82o%C5%9B%C4%87.jpg?s=612x612&w=0&k=20&c=rPdDhWw4hnRgvjR8kW4mYs3Ei9ujDElf_usqlq9cfY8=\n",
            "drive/MyDrive/faces/test/smiling-person/kobieta-trzyma-telefon-kom%C3%B3rkowy-z-freind-%C5%9Bmia%C4%87-si%C4%99.jpg?s=612x612&w=0&k=20&c=Rnh8NGWeFJUzK955n5Pd18LC9NN8-_ujMlpDEdMRK8w=\n",
            "drive/MyDrive/faces/test/smiling-person/nieformalny-portret-na-pocz%C4%85tku-lat-60-tych-czarna-kobieta-pe%C5%82na-witalno%C5%9Bci.jpg?s=612x612&w=0&k=20&c=T9h76xYRc3ZvykjrsXwDcU0thsVDMwTBy4RuDcHfjcM=\n",
            "drive/MyDrive/faces/test/anger-person\n",
            "drive/MyDrive/faces/test/anger-person/z%C5%82y-biznesmen-krzyczy.jpg?s=612x612&w=0&k=20&c=jtbSjBhzeEawiILNlOZWU36tlq3fMGFprwF8-fE4TRQ=\n",
            "drive/MyDrive/faces/test/anger-person/afryki-ameryka%C5%84ski-cz%C5%82owiek-krzyczy.jpg?s=612x612&w=0&k=20&c=r-a-jzbJEEn3wfJikaVwhb7PtSb0e6cAwCFpu8x2JeE=\n",
            "drive/MyDrive/faces/test/anger-person/portret-zdenerwowanej-m%C5%82odej-dziewczyny-stoj%C4%85cej.jpg?s=612x612&w=0&k=20&c=d83x5N8ByDR4Jvzde96QYKKe70DRNpcVey9jRSR7CPM=\n",
            "drive/MyDrive/faces/test/anger-person/z%C5%82y-ch%C5%82opiec-krzyczy-do-kamery.jpg?s=612x612&w=0&k=20&c=8mwznFF3gqi0autJpKCu6AdR9veaaVsTaoFXBhtfyCE=\n",
            "drive/MyDrive/faces/test/anger-person/r%C3%B3%C5%BCnorodne-osoby-trzymaj%C4%85ce-emotikony.jpg?s=612x612&w=0&k=20&c=6vsZQsJt0BYgoXWT7BCUdlybZULajUK98AjtNGl2nlQ=\n",
            "drive/MyDrive/faces/test/anger-person/ona-jest-ju%C5%BC-koniec-jej-lina.jpg?s=612x612&w=0&k=20&c=E-OugwoY18bo9lnp1COz7akAaVXr7O5fOvvyg3e4xhc=\n",
            "drive/MyDrive/faces/test/anger-person/m%C5%82oda-zirytowana-kobieca-posta%C4%87-sceptyczna-ekspresja-twarzy.jpg?s=612x612&w=0&k=20&c=hgnKHYnWy21BpZ3duEZT-0BvwBYSTjPcD3oAAu65azA=\n",
            "drive/MyDrive/faces/test/anger-person/grumpy-starszy-m%C4%99%C5%BCczyzna.jpg?s=612x612&w=0&k=20&c=JIWuLnBVhkezd0Q1YW4vwZPYPZShi1WFCx3fNH2qgv8=\n",
            "drive/MyDrive/faces/test/anger-person/zm%C4%99czona-zdenerwowana-kobieta-martwi-si%C4%99-zm%C4%99czeniem-z-pracy-domowej.jpg?s=612x612&w=0&k=20&c=MUnXZkR7UKVQRC8-d71MUvr0onR4kBNQgfh9lly_QbI=\n",
            "drive/MyDrive/faces/test/anger-person/dwie-k%C5%82%C3%B3c%C4%85ce-si%C4%99-kobiety-w%C5%9Bciek%C5%82a-pani-krzyczy-potrz%C4%85saj%C4%85c-zaci%C5%9Bni%C4%99t%C4%85-pi%C4%99%C5%9Bci%C4%85-i-wskazuj%C4%85c.jpg?s=612x612&w=0&k=20&c=bILqWueUoQkc5i-x7QmKwLjRnCtFBAKxwzQTKPD-25A=\n",
            "drive/MyDrive/faces/test/anger-person/m%C5%82ody-rudow%C5%82osy-biznesmen-krzyczy-z-frustracji.jpg?s=612x612&w=0&k=20&c=hyu7iiqbtKSYVsJQZhLCLFyi_mlY1S_6gZhFWnoWuV8=\n",
            "drive/MyDrive/faces/test/anger-person/sfrustrowana-kobieta-otrzyma%C5%82a-problematyczny-e-mail-przez-komputer.jpg?s=612x612&w=0&k=20&c=r2c51oheThIKg4h9lFIUgNlH9ZlOmbp2plPU7QLUIqY=\n",
            "drive/MyDrive/faces/test/anger-person/zdenerwowany-zdezorientowany-afrykanin-kobieta-gospodarstwa-telefon-maj%C4%85cy-problem-z.jpg?s=612x612&w=0&k=20&c=3aR5l7oCHoOn6w7Ft9eIt51osk2RDVy8FPn-RTH5odI=\n",
            "drive/MyDrive/faces/test/anger-person/w%C5%9Bciek%C5%82a-para-tysi%C4%85clecia-k%C5%82%C3%B3c%C4%85-si%C4%99-krzycz%C4%85c-obwiniaj%C4%85c-si%C4%99-nawzajem-o-problemy.jpg?s=612x612&w=0&k=20&c=r6F_ntMEHgw_dZswJCOqgHDHZRRcCVPelOlYnduKD-0=\n",
            "drive/MyDrive/faces/test/anger-person/m%C5%82oda-pi%C4%99kna-brunetka-kobieta-ubrana-w-zwyk%C5%82y-sweter-stoj%C4%85cy-nad-niebieskim-t%C5%82em-wskazuj%C4%85c.jpg?s=612x612&w=0&k=20&c=g_7T5ku0EALvXEPcFr2uT7jJwmHpeUleELbjaQN8RG4=\n",
            "drive/MyDrive/faces/test/anger-person/biznesmen-biznes-cz%C5%82owiek-stres-ci%C5%9Bnienia-pracy-ikona-piktogram-stick-rysunek.jpg?s=612x612&w=0&k=20&c=6qGPUshNegS_5KM08XrSM17iWWc3d9m-oKN1UYcCoTA=\n",
            "drive/MyDrive/faces/test/anger-person/prawdziwy-niezadowolony-portret-starszej-kobiety.jpg?s=612x612&w=0&k=20&c=TqNQP_MlzcWbmLCl6iA2mH3VUIFj8kPaqmyvvN6qBKY=\n",
            "drive/MyDrive/faces/test/anger-person/ludzkie-zachowanie-pozytywne-vs-naprzeciwko-ujemny-znak-cechy.jpg?s=612x612&w=0&k=20&c=XbcSkbBolI3ZFBFo9G51dFN3Ab5KEGmy3uFifwIEcEE=\n",
            "drive/MyDrive/faces/test/anger-person/z%C5%82a-kobieta-blowing-steam-pochodz%C4%85cych-z-uszu.jpg?s=612x612&w=0&k=20&c=PsSE5BSpQybMUDwpNVTWaZXbqojpQz4ahsUeGHr28h0=\n",
            "drive/MyDrive/faces/test/anger-person/nigdy-nie-s%C5%82uchasz.jpg?s=612x612&w=0&k=20&c=mOV_hMvJI5MLT8BZtV15hDDK6cNN9-jZT2j75WiGRMA=\n",
            "drive/MyDrive/faces/test/anger-person/z%C5%82o%C5%BCony-dojrza%C5%82ej-kobiety-z-wielu-emocji-i-wyra%C5%BCe%C5%84.jpg?s=612x612&w=0&k=20&c=6M7QRmrJBaCzG-XdZiZi3VKt11skET8c0oN_mHvQC5U=\n",
            "drive/MyDrive/faces/test/anger-person/ten-zwi%C4%85zek-ju%C5%BC-nie-dzia%C5%82a-dla-mnie.jpg?s=612x612&w=0&k=20&c=Sqauv1s2YWTDoTTu_wz8Jy-7keiyPFyHc9prNfGJE38=\n",
            "drive/MyDrive/faces/test/anger-person/w%C5%9Bciek%C5%82a-kobieta-krzyczy-na-p%C5%82acz%C4%85c%C4%85-kobiet%C4%99-kt%C3%B3ra-zakrywa-twarz-r%C4%99koma.jpg?s=612x612&w=0&k=20&c=Zo7zSwDwB6KNiuUYBWXPEah_KvidMYJN_WZ-OEOA2Go=\n",
            "drive/MyDrive/faces/test/anger-person/szalony-kaukaski-cz%C5%82owiek-maj%C4%85cy-problemy-z-komputerem-pracuj%C4%85cy-na-laptopie.jpg?s=612x612&w=0&k=20&c=z96XU7mplO0DMN_8PQMOiRpYsB25wVSLLWun7oBIa1I=\n",
            "drive/MyDrive/faces/test/anger-person/nie-w%C5%9Bciek%C5%82y-krzycz%C4%85c-kobieta.jpg?s=612x612&w=0&k=20&c=mvhGrGiCpi_rd9KuKdeJ1sIr4EBbXRQlKTc2WN5bcXY=\n",
            "drive/MyDrive/faces/test/anger-person/z%C5%82a-szefa-biznes-kobieta-puste.jpg?s=612x612&w=0&k=20&c=o3Yz76tqf5xfVceLz8Mf4-2hDViQKUDvyFMSMXx_L_w=\n",
            "drive/MyDrive/faces/test/anger-person/family-quarrel-sp%C3%B3r-flat-wektor-ilustracja.jpg?s=612x612&w=0&k=20&c=40gF4ucfzbKeQS6_o6L1VYsfMrGKAELp5c8ISw-0w6k=\n",
            "drive/MyDrive/faces/test/anger-person/poj%C4%99tej-ilustracji-wektorowej-czas-psychologii-zaburzenia-psychiczne-depresja-wyczerpanie.jpg?s=612x612&w=0&k=20&c=Y-8atlqFWyC74OcZD2vNgLRUXpsQ1Y2AJiYp0_tzHw0=\n",
            "drive/MyDrive/faces/test/anger-person/kobieta-z-agresywnym-psem-spaceruj%C4%85ca-na-%C5%9Bwie%C5%BCym-powietrzu-zbli%C5%BCenie.jpg?s=612x612&w=0&k=20&c=zJDIjbGK7psPovJy5L5zf2oBFZviHPMdI1xdZPKxPWY=\n",
            "drive/MyDrive/faces/test/anger-person/rozw%C5%9Bcieczony-m%C4%99%C5%BCczyzna-potrz%C4%85sa-pi%C4%99%C5%9Bci%C4%85-przez-przedni%C4%85-szyb%C4%99-w%C5%9Bciek%C5%82o%C5%9B%C4%87-na-drodze.jpg?s=612x612&w=0&k=20&c=f5bKsaYZfcjI4ohMWsJ99XDKqZb_Ww7RMe1cA0JYfjE=\n",
            "drive/MyDrive/faces/test/anger-person/zdesperowany-kobieta.jpg?s=612x612&w=0&k=20&c=t5fy66UaIST_0W1w0QaHwM2Bv_zDnQ-Dlh9CXo47SsM=\n",
            "drive/MyDrive/faces/test/anger-person/m%C5%82ody-cz%C5%82owiek-rozpaczliwie-czeka-w-korku.jpg?s=612x612&w=0&k=20&c=Dot5VM6f36kkB6vXegrvcHXEZkoURT3ikE7sN47Jwmk=\n",
            "drive/MyDrive/faces/test/anger-person/kobieta-besztaj%C4%85ca-ucznia-szko%C5%82y-podstawowej.jpg?s=612x612&w=0&k=20&c=Atp3QV3P8uSjzjIIwv3RLRBv55SoifPurHwd2ubbQmM=\n",
            "drive/MyDrive/faces/test/anger-person/szalony-cz%C5%82owiek-patrze%C4%87-na-ekranie-kom%C3%B3rki-podkre%C5%9Bli%C5%82-z-problemem-gad%C5%BCetu.jpg?s=612x612&w=0&k=20&c=nEGHLSk8WtK39h1VHwkFT3RqGdywrnrO3bKXsRLs1AU=\n",
            "drive/MyDrive/faces/test/anger-person/grupa-ludzi-w-wiecu-protestuj%C4%85cym.jpg?s=612x612&w=0&k=20&c=XnRT8HWzSDv696xiicdJTVQgBQjRBwEW8-leVa0n6cA=\n",
            "drive/MyDrive/faces/test/anger-person/m%C5%82oda-kobieta-jest-w-stresie.jpg?s=612x612&w=0&k=20&c=7pJ-xJGTMbEDYMUfQxKLiSniLzgdFCibkDMUAeukgGI=\n",
            "drive/MyDrive/faces/test/anger-person/zdenerwowana-gruba-kobieta-wygl%C4%85daj%C4%85ca-na-zirytowan%C4%85-i-patrz%C4%85c%C4%85-w-kamer%C4%99.jpg?s=612x612&w=0&k=20&c=k8b49ZbjhryL6yMDWbj-eUTI2gV1-AzaWG1bgii6Axk=\n",
            "drive/MyDrive/faces/test/anger-person/bardzo-z%C5%82a-kobieta.jpg?s=612x612&w=0&k=20&c=JzmYR1IPdFU6u8_GOzle81sWfC5k-h--L3FSJw5BHBo=\n",
            "drive/MyDrive/faces/test/anger-person/zszokowany-portret-m%C5%82odego-m%C4%99%C5%BCczyzny.jpg?s=612x612&w=0&k=20&c=Ay9qYL_n2RdQHkbFsM_KIhMBUNbeNHYU_XPSUHfWQeE=\n",
            "drive/MyDrive/faces/test/anger-person/obra%C5%BCony-smutny-rozgniewany-kaukaski-m%C5%82odzieniec-ze-skrzy%C5%BCowanymi-r%C4%99kami-w-usta-patrz%C4%85c-na.jpg?s=612x612&w=0&k=20&c=nt-q44csb6E1XHVByWsLFNGaiATb_GM_EN0T688D3kI=\n",
            "drive/MyDrive/faces/test/anger-person/pi%C4%99kna-kobieta-ubrana-w-zimowy-sweter-golfowy-na-odizolowanym-bia%C5%82ym-tle-szalony-i-szalony.jpg?s=612x612&w=0&k=20&c=qTb_CEdcfCiY9sZaP3l71XNSj9eHb8HN_ZUqOp8jHcs=\n",
            "drive/MyDrive/faces/test/anger-person/zirytowany-sfrustrowany-m%C4%99%C5%BCczyzna-czytaj%C4%85cy-z%C5%82e-wie%C5%9Bci-na-telefonie-kom%C3%B3rkowym.jpg?s=612x612&w=0&k=20&c=sgEAGkVD1PiPq1rEKRT1flyUPRhuAH6ONrrv_t-WS0o=\n",
            "drive/MyDrive/faces/test/anger-person/zdezorientowana-kobieta-w-%C5%9Brednim-wieku-w-okularach-patrz%C4%85c-na-ekranie-komputera.jpg?s=612x612&w=0&k=20&c=kp-dibYEgbqwGUi-o2ZUtJOvruxjnmZHORB39x7dNbI=\n",
            "drive/MyDrive/faces/test/anger-person/kobieta-zestresowana-z-otwartymi-ustami-podra%C5%BCnienia-covid.jpg?s=612x612&w=0&k=20&c=UKeZWV_ty2L2hQE2_f0MuV8QukYh7uVVQU6fpoxjjDk=\n",
            "drive/MyDrive/faces/test/anger-person/koncepcja-zestawu-gniewnych-ludzi.jpg?s=612x612&w=0&k=20&c=2RlFFtrXXmG9msjhbWR7WQpQbvqVCszOulrRqVbu8GY=\n",
            "drive/MyDrive/faces/test/anger-person/dojrza%C5%82a-doros%C5%82a-kobieta.jpg?s=612x612&w=0&k=20&c=tm5rNNi1USf7Tk-uATl2r_mwocxNrrI9tnghkJl-w5A=\n",
            "drive/MyDrive/faces/test/anger-person/indian-boy-schoolboy-kid-pozuje-zestaw-wektora-liceum-dziecka-ucze%C5%84-wrzesie%C5%84-uczniowie.jpg?s=612x612&w=0&k=20&c=_7sW5IM82cdwYFOE3uIg350Xe6Olcu0dMPOFLJnRjSU=\n",
            "drive/MyDrive/faces/test/anger-person/okrutny-czerwony-kot-gryzie-swojego-w%C5%82a%C5%9Bciciela-w-rami%C4%99-z-ca%C5%82%C4%85-moc%C4%85.jpg?s=612x612&w=0&k=20&c=89TRokFQWdBvAOQk0t-wa3gBELK1zAgAIvN87im1GvM=\n",
            "drive/MyDrive/faces/test/anger-person/prawdziwy-krzycz%C4%85cy-portret-starszej-kobiety.jpg?s=612x612&w=0&k=20&c=BZto0uz6dobzQtYzlzfLBlJPPNr2qNakA9WzXdpoTXA=\n",
            "drive/MyDrive/faces/test/anger-person/wykonywanie-zapyta%C5%84-o-faktur%C4%99.jpg?s=612x612&w=0&k=20&c=5zYfUICTQqrI8XMocKG_6Q6JX75147RQhPjbi3ZdupI=\n",
            "drive/MyDrive/faces/test/anger-person/m%C3%B3zg-eksploduj%C4%85ce-z-wiosna-z-podkre%C5%9Bli%C5%82-cz%C5%82owiek-otwart%C4%85-g%C5%82ow%C4%99.jpg?s=612x612&w=0&k=20&c=0Mf95Op16l659VGztZLU6GbA5otMgWeMneghqEuXvEo=\n",
            "drive/MyDrive/faces/test/anger-person/z%C5%82y-cz%C5%82owiek-m%C3%B3wi-przez-telefon-kwestionuj%C4%85c-problem-laptopa-komputerowego.jpg?s=612x612&w=0&k=20&c=rY8rk0jKlDmy6PrhMCVOV6qyuDa692LZJbenhJqZDoM=\n",
            "drive/MyDrive/faces/test/anger-person/m%C5%82oda-kobieta-co-twarz-wyra%C5%BCenia.jpg?s=612x612&w=0&k=20&c=jxXxov6MdP0tKYVY2eyu3-5gY4MfUZdGhl_JvX1qeeE=\n",
            "drive/MyDrive/faces/test/anger-person/kobieta-szef-charakter-krzyczy-na-pracownika.jpg?s=612x612&w=0&k=20&c=dNc6pTYBBsbjPnPQCgN9J69fz5ySb8mS4W2lcW7KUMg=\n",
            "drive/MyDrive/faces/test/anger-person/niezadowolenie-biracial-lady-gestykuluj%C4%85c-twarz-d%C5%82oni-na-kamerze-na-%C5%BC%C3%B3%C5%82tym-tle.jpg?s=612x612&w=0&k=20&c=MnL9BKQV93bDaOdfq-hu3wTSzw5uUAHPZmEFM_Hd3nE=\n",
            "drive/MyDrive/faces/test/anger-person/kobieta-portret.jpg?s=612x612&w=0&k=20&c=36x2e3mt3CqpPU2bQnIULK43yV9R-tgpwotq6nax44k=\n",
            "drive/MyDrive/faces/test/anger-person/z%C5%82y-protestuj%C4%85cych-z-znakami.jpg?s=612x612&w=0&k=20&c=9pqWMDnaWlB8vWw-cxzfGiynGygPrrheF2luVkp1oYk=\n",
            "drive/MyDrive/faces/test/anger-person/samiec-owczarka-niemieckiego-gryzie-m%C4%99%C5%BCczyzn%C4%99.jpg?s=612x612&w=0&k=20&c=eWdu5YdHK6AZikn_W9LxnAuw5py6jl4iokxWEZiWm1w=\n",
            "drive/MyDrive/faces/test/anger-person/funny-z%C5%82y-1980s-pracownik-biurowy.jpg?s=612x612&w=0&k=20&c=FOuOvnxK-ZdhBnXvicKcFu4J2RN26gLjQ2CO_jTO6Tk=\n",
            "drive/MyDrive/faces/test/anger-person/smutna-nastolatka-sprawdza-telefon-w-domu.jpg?s=612x612&w=0&k=20&c=DaioAZ8-CqPwVoOxJrgaWstQSlfXsDat4cwyB-_AlZA=\n",
            "drive/MyDrive/faces/test/anger-person/m%C5%82oda-kobieta-co-dziewi%C4%99%C4%87-r%C3%B3%C5%BCnych-wyrazy-twarzy.jpg?s=612x612&w=0&k=20&c=QBoOThgRT5LBNYSrV0-D-_hr3bc0MEN9jsbn4fsYlFY=\n",
            "drive/MyDrive/faces/test/anger-person/m%C5%82oda-kobieta-protestuj%C4%85cy-podnosz%C4%85ca-pi%C4%99%C5%9B%C4%87-w-g%C3%B3r%C4%99.jpg?s=612x612&w=0&k=20&c=LAVdxPhUEFWSE3Xs-g5koAaGmxb3Ny9wfVWxRyzDqR4=\n",
            "drive/MyDrive/faces/test/anger-person/nieprzyjemna-rozmowa-telefoniczna.jpg?s=612x612&w=0&k=20&c=ozaLpmeR89-zr5JRcmp8Q19VssUJmwiGVQ6HoFiOZbo=\n",
            "drive/MyDrive/faces/test/anger-person/m%C5%82oda-kobieta-w-bluzce-portret-emocje.jpg?s=612x612&w=0&k=20&c=sWcYk3AJbrPj3GgjJIlIxj0_MP0d1sVzlzmJ8xtCiFE=\n",
            "drive/MyDrive/faces/test/anger-person/powa%C5%BCny-bossy-nauczyciel-lub-biznesmen-ze-skrzy%C5%BCowanymi-ramionami-patrz%C4%85c-na-kamer%C4%99.jpg?s=612x612&w=0&k=20&c=pofYECa01U2kFI0dAHtzZL9f67Vvjerc7VBP5sTmPAA=\n",
            "drive/MyDrive/faces/test/anger-person/bia%C5%82a-kobieta-rozmawiaj%C4%85ca-przez-telefon-i-odbieraj%C4%85ca-z%C5%82e-wie%C5%9Bci-ze-zmartwion%C4%85-twarz%C4%85.jpg?s=612x612&w=0&k=20&c=egpb97V15Eeqw62w13ileydsAFgB9nb9yykb3XTkd2Y=\n",
            "drive/MyDrive/faces/test/anger-person/biznesmen-martwi-si%C4%99-o-wiadomo%C5%9Bci-na-swoim-telefonie-kom%C3%B3rkowym.jpg?s=612x612&w=0&k=20&c=vaC-oir5Z0oZ2N9Jiio1611Ju_tyQjcohYCE8GX5p0E=\n",
            "drive/MyDrive/faces/test/anger-person/rozw%C5%9Bcieczony-rysunek-ludzkiej-figury.jpg?s=612x612&w=0&k=20&c=6x8L_UTZRf7OF9JhKp_rG1OogL_20QbMFujkVuZ_mP4=\n",
            "drive/MyDrive/faces/test/anger-person/portret-zdezorientowanej-azjatki-trzymaj%C4%85cej-telefon-kom%C3%B3rkowy.jpg?s=612x612&w=0&k=20&c=gULK6oYcO9PODV1HTSjLkCcruCkOkQl2OssYgx-rQ2A=\n",
            "drive/MyDrive/faces/test/anger-person/zestaw-ikon-awatara-dla-dzieci.jpg?s=612x612&w=0&k=20&c=YCS9OC9b2IICxc7jtbPGhCiZyk5K_KzH7uSVr7lIY6o=\n",
            "drive/MyDrive/faces/test/disgust-person\n",
            "drive/MyDrive/faces/test/disgust-person/r%C4%99cznie-rysowane-akwarele-podstawowe-emotikony.jpg?s=612x612&w=0&k=20&c=fkS5D7BUf77s9dzl3evFxZtUX0PE956CYyCxH7Azlo4=\n",
            "drive/MyDrive/faces/test/disgust-person/niesatysfakcjonuj%C4%85ca-kobieta.jpg?s=612x612&w=0&k=20&c=wW5xhLOriZ-_QJha1e2e_9mZzj7ZbqWQcvxFRtqola0=\n",
            "drive/MyDrive/faces/test/disgust-person/niezadowolony-nastolatek-dziewczyna-patrz%C4%85c-na-jej-smartphone.jpg?s=612x612&w=0&k=20&c=14eZWXm6TACI1b_QxeBFXeQKxzOnKJbo2UOwP-XHvYg=\n",
            "drive/MyDrive/faces/test/disgust-person/diety.jpg?s=612x612&w=0&k=20&c=CwGp3yVlf7OGfjTRMYMBX5gbKpKyEovLm0oTMHy6pco=\n",
            "drive/MyDrive/faces/test/disgust-person/l%C4%99k-przestraszona-dziewczyna-patrzy-na-telefon-postrzeganie-z%C5%82a-wiadomo%C5%9B%C4%87.jpg?s=612x612&w=0&k=20&c=Zf84Ph2AL70q8Gl7ZohcE2XEH6OkFArTqXTFy9ZCS2k=\n",
            "drive/MyDrive/faces/test/disgust-person/nieszcz%C4%99%C5%9Bliwa-para-ma-konflikt-m%C5%82ody-kaukaski-m%C4%99%C5%BCczyzna-i-kaukaska-kobieta-odwr%C3%B3cili-si%C4%99-od.jpg?s=612x612&w=0&k=20&c=e4SFhDnJWm7mMArgaDdw7Oj4aAx-BFcab1m8_yBbGc4=\n",
            "drive/MyDrive/faces/test/disgust-person/%C5%9Bmierdz%C4%85cy-biznesmen-wp%C5%82ywaj%C4%85cy-na-swoich-wsp%C3%B3%C5%82pracownik%C3%B3w-w-windzie.jpg?s=612x612&w=0&k=20&c=-7mvcCOsVriACgHC0TlP_AF3ab6p58x_dh7iZDmWgOY=\n",
            "drive/MyDrive/faces/test/disgust-person/z%C5%82y-dziecko-twarzy.jpg?s=612x612&w=0&k=20&c=j23KaNPGisdC3tPUqQlh-Q4NDo5H8mEFSn1mKw3lcsk=\n",
            "drive/MyDrive/faces/test/disgust-person/nastolatka-kobieta-z-b%C3%B3lem-g%C5%82owy-trzymaj%C4%85c-g%C5%82ow%C4%99.jpg?s=612x612&w=0&k=20&c=4Y9NsGI-ot3_H9DYKqAil3z5JByRqPQlwKxbsOuGR8M=\n",
            "drive/MyDrive/faces/test/disgust-person/m%C5%82oda-kobieta-uczucie-nudno%C5%9Bci-w-czasie-%C5%9Bniadania.jpg?s=612x612&w=0&k=20&c=F_euHGgsJT9PMe-wnTBcpy8317v0_7vBLC2liTh6d4c=\n",
            "drive/MyDrive/faces/test/disgust-person/portret-zdenerwowany-rozczarowany-pani-trzyma%C4%87-r%C4%99k%C4%99-gad%C5%BCet-wygl%C4%85d-kana%C5%82-informacyjny-nie.jpg?s=612x612&w=0&k=20&c=Op-lEX23fjS_tkbwNik266uCjgr9v_ijbA_T_jKHfrk=\n"
          ]
        }
      ]
    },
    {
      "cell_type": "code",
      "source": [
        "recognized_faces = {\n",
        "    'smiling-faces': smiling_faces,\n",
        "    'anger-person' : anger_faces,\n",
        "    'disgust-person' : disgust_faces,\n",
        "    'fear_faces' : fear_faces,\n",
        "    'surprise-person' : surprise_faces\n",
        "}"
      ],
      "metadata": {
        "id": "_jfhZdDsvOBD"
      },
      "execution_count": 14,
      "outputs": []
    },
    {
      "cell_type": "code",
      "source": [
        "from PIL import Image\n",
        "from numpy import asarray\n",
        "# # load the image\n",
        "# image = Image.open('kolala.jpeg')\n",
        "# # convert image to numpy array\n",
        "# data = asarray(image)\n",
        "# print(type(data))\n",
        "# # summarize shape\n",
        "# print(data.shape)\n",
        "\n",
        "# create Pillow image\n",
        "image2 = Image.fromarray(smiling_faces[0])\n",
        "print(type(smiling_faces[0]))\n",
        "cv2_imshow(smiling_faces[0])\n",
        "# summarize image details\n",
        "print(image2.mode)\n",
        "print(image2.size)"
      ],
      "metadata": {
        "colab": {
          "base_uri": "https://localhost:8080/",
          "height": 230
        },
        "id": "TeiIoa3In_uO",
        "outputId": "3331bad1-0d62-4a94-a5dd-0e0e418ed8b7"
      },
      "execution_count": 18,
      "outputs": [
        {
          "output_type": "stream",
          "name": "stdout",
          "text": [
            "<class 'numpy.ndarray'>\n"
          ]
        },
        {
          "output_type": "display_data",
          "data": {
            "text/plain": [
              "<PIL.Image.Image image mode=RGB size=158x158 at 0x79B1C50DAA10>"
            ],
            "image/png": "[encoded data removed]"
          },
          "metadata": {}
        },
        {
          "output_type": "stream",
          "name": "stdout",
          "text": [
            "RGB\n",
            "(158, 158)\n"
          ]
        }
      ]
    },
    {
      "cell_type": "markdown",
      "source": [
        "# **4.Model**"
      ],
      "metadata": {
        "id": "ZhKRz8rJ4Mw9"
      }
    },
    {
      "cell_type": "code",
      "source": [
        "img_height = 64\n",
        "img_width = 64\n",
        "batch_size = 100"
      ],
      "metadata": {
        "id": "c_ZVY9QQ4nUg"
      },
      "execution_count": null,
      "outputs": []
    },
    {
      "cell_type": "code",
      "source": [
        "#train and validation split\n",
        "train_ds = keras.utils.split_dataset(recognized_faces, left_size=0.8, shuffle=False, seed=None)\n",
        "\n",
        "# val_ds = keras.utils.image_dataset_from_directory(\n",
        "#     train_path,\n",
        "#     validation_split = 0.3,\n",
        "#     seed=0,\n",
        "#     subset='validation',\n",
        "#     image_size = (img_height, img_width),\n",
        "#     batch_size = batch_size,\n",
        "#     label_mode = 'categorical')"
      ],
      "metadata": {
        "id": "DrfO9jsg4wfA"
      },
      "execution_count": null,
      "outputs": []
    },
    {
      "cell_type": "code",
      "source": [
        "train_ds"
      ],
      "metadata": {
        "id": "hJQAqrUp4aHP",
        "outputId": "3c24d52b-e59a-4cee-9b4b-cd377c029567",
        "colab": {
          "base_uri": "https://localhost:8080/",
          "height": 172
        }
      },
      "execution_count": null,
      "outputs": [
        {
          "output_type": "error",
          "ename": "NameError",
          "evalue": "ignored",
          "traceback": [
            "\u001b[0;31m---------------------------------------------------------------------------\u001b[0m",
            "\u001b[0;31mNameError\u001b[0m                                 Traceback (most recent call last)",
            "\u001b[0;32m<ipython-input-36-8def07a51ead>\u001b[0m in \u001b[0;36m<cell line: 1>\u001b[0;34m()\u001b[0m\n\u001b[0;32m----> 1\u001b[0;31m \u001b[0mtrain_ds\u001b[0m\u001b[0;34m\u001b[0m\u001b[0;34m\u001b[0m\u001b[0m\n\u001b[0m",
            "\u001b[0;31mNameError\u001b[0m: name 'train_ds' is not defined"
          ]
        }
      ]
    },
    {
      "cell_type": "code",
      "source": [
        "model = Sequential()\n",
        "model.add(layers.Rescaling(1./255))\n",
        "\n",
        "model.add(layers.Conv2D(64, (5,5), padding='same', activation='relu'))\n",
        "model.add(layers.MaxPool2D((2,2)))\n",
        "model.add(layers.RandomRotation(factor = (-1, 1), fill_mode='reflect', interpolation='bilinear',))\n",
        "\n",
        "model.add(layers.Conv2D(32, (5,5), padding='same', activation='relu'))\n",
        "model.add(layers.MaxPool2D((2,2)))\n",
        "model.add(layers.Rescaling(scale=2, offset=0.0))\n",
        "\n",
        "model.add(layers.MaxPool2D((2,2)))\n",
        "model.add(layers.Dropout(rate=0.1))\n",
        "\n",
        "model.add(layers.Flatten())\n",
        "model.add(layers.Dense(5, activation='softmax'))"
      ],
      "metadata": {
        "id": "3n0OSaSr3_8k"
      },
      "execution_count": null,
      "outputs": []
    }
  ]
}