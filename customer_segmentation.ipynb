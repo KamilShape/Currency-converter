{
  "nbformat": 4,
  "nbformat_minor": 0,
  "metadata": {
    "colab": {
      "provenance": [],
      "authorship_tag": "ABX9TyMHJW2fcyGaHyVlaeHjo85C",
      "include_colab_link": true
    },
    "kernelspec": {
      "name": "python3",
      "display_name": "Python 3"
    },
    "language_info": {
      "name": "python"
    }
  },
  "cells": [
    {
      "cell_type": "markdown",
      "metadata": {
        "id": "view-in-github",
        "colab_type": "text"
      },
      "source": [
        "<a href=\"https://colab.research.google.com/github/KamilShape/Currency-converter/blob/master/customer_segmentation.ipynb\" target=\"_parent\"><img src=\"https://colab.research.google.com/assets/colab-badge.svg\" alt=\"Open In Colab\"/></a>"
      ]
    },
    {
      "cell_type": "markdown",
      "source": [
        "1. Introduction"
      ],
      "metadata": {
        "id": "hZplOBjqbZSE"
      }
    },
    {
      "cell_type": "code",
      "source": [
        "#libraries\n",
        "import pandas as pd\n",
        "import seaborn as sns\n",
        "import matplotlib as plt"
      ],
      "metadata": {
        "id": "aIdtbo6BbY1s"
      },
      "execution_count": 1,
      "outputs": []
    },
    {
      "cell_type": "code",
      "source": [
        "!git init"
      ],
      "metadata": {
        "colab": {
          "base_uri": "https://localhost:8080/"
        },
        "id": "5SsGtO69b_DA",
        "outputId": "634712f2-8aa8-470d-d9c0-3aac98a12e67"
      },
      "execution_count": 3,
      "outputs": [
        {
          "output_type": "stream",
          "name": "stdout",
          "text": [
            "Initialized empty Git repository in /content/.git/\n"
          ]
        }
      ]
    },
    {
      "cell_type": "code",
      "source": [
        "!git remote add origin https://github.com/KamilShape/customer_segmentation.git"
      ],
      "metadata": {
        "id": "1fDn1bFqb8eM"
      },
      "execution_count": 4,
      "outputs": []
    },
    {
      "cell_type": "code",
      "source": [],
      "metadata": {
        "id": "_FCnmisocJF_"
      },
      "execution_count": null,
      "outputs": []
    }
  ]
}